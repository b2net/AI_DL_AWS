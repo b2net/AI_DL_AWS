{
 "cells": [
  {
   "cell_type": "markdown",
   "metadata": {},
   "source": [
    "# Data description\n",
    "**Data from [Zalando GitHub page](https://github.com/zalandoresearch/fashion-mnist)**\n",
    "\n",
    "\n",
    "## Intro\n",
    "**Fashion-MNIST** is a dataset of Zalando's article images, intended to serve as a direct replacement of the original [MNIST](http://yann.lecun.com/exdb/mnist/) dataset for benchmarking machine learning algorithms. It shares the same image size and structure of training and testing splits.\n",
    "\n",
    "**Fashion-MNIST** consists of:\n",
    " - training set of 60,000 examples\n",
    " - test set of 10,000 examples\n",
    " \n",
    "Each example is a 28x28 grayscale image associated with a label from 10 classes:\n",
    "\n",
    "| Label  | Description |\n",
    "| ------ | ----------- |\n",
    "| 0 | T-shirt/top |\n",
    "| 1 | Trouser |\n",
    "| 2 | Pullover |\n",
    "| 3 | Dress |\n",
    "| 4 | Coat |\n",
    "| 5 | Sandal |\n",
    "| 6 | Shirt |\n",
    "| 7 | Sneaker |\n",
    "| 8 | Bag |\n",
    "| 9 | Ankle boot |"
   ]
  },
  {
   "cell_type": "markdown",
   "metadata": {},
   "source": [
    "### Load training and test datasets\n",
    "`download_data` downloads data from a given `url`, if no file with the same name has been downloaded so far,  \n",
    "`read_data` creates labels and datasets from the corresponding .gz files.\n",
    "\n",
    "With these functions we download data from GitHub and create training/test datasets/label."
   ]
  },
  {
   "cell_type": "code",
   "execution_count": 1,
   "metadata": {},
   "outputs": [],
   "source": [
    "import os\n",
    "import gzip\n",
    "import struct\n",
    "import operator\n",
    "import numpy as np\n",
    "import urllib.request\n",
    "import matplotlib.pyplot as plt"
   ]
  },
  {
   "cell_type": "code",
   "execution_count": 2,
   "metadata": {},
   "outputs": [],
   "source": [
    "def download_data(url, force_download=True): \n",
    "    fname = url.split(\"/\")[-1]\n",
    "    if force_download or not os.path.exists(fname):\n",
    "        urllib.request.urlretrieve(url, fname)\n",
    "    return fname\n",
    "\n",
    "def read_Fashion_MNIST_data_compact(label, image):\n",
    "    base_url = 'https://github.com/zalandoresearch/fashion-mnist/raw/master/data/fashion/'\n",
    "    \n",
    "    with gzip.open(download_data(base_url + label, False)) as flbl:\n",
    "        flbl.read(8)\n",
    "        label = np.fromstring(flbl.read(), dtype=np.int8)\n",
    "        \n",
    "    with gzip.open(download_data(base_url + image, False), 'rb') as fimg:\n",
    "        # will look up \"struct.unpack\" later\n",
    "        magic, num, rows, cols = struct.unpack(\">IIII\", fimg.read(16))\n",
    "        image = np.fromstring(fimg.read(), dtype=np.uint8).reshape(len(label), rows, cols)\n",
    "        \n",
    "    return (label, image)\n",
    "\n",
    "\n",
    "(train_lbl, train_img) = read_Fashion_MNIST_data_compact('train-labels-idx1-ubyte.gz', 'train-images-idx3-ubyte.gz')\n",
    "(val_lbl, val_img)     = read_Fashion_MNIST_data_compact('t10k-labels-idx1-ubyte.gz', 't10k-images-idx3-ubyte.gz')\n",
    "\n",
    "fashion_labels=['T-shirt/top','Trouser','Pullover','Dress','Coat','Sandal','Shirt','Sneaker','Bag','Ankle boot']"
   ]
  },
  {
   "cell_type": "markdown",
   "metadata": {},
   "source": [
    "Now that the data are loaded we want to know the shapes of train and test datasets: "
   ]
  },
  {
   "cell_type": "code",
   "execution_count": 3,
   "metadata": {},
   "outputs": [
    {
     "name": "stdout",
     "output_type": "stream",
     "text": [
      "Train labels and dataset shapes:  (60000,) , (60000, 28, 28)\n",
      "Test labels and dataset shapes:   (10000,) , (10000, 28, 28)\n"
     ]
    }
   ],
   "source": [
    "print(\"Train labels and dataset shapes: \", train_lbl.shape, \",\", train_img.shape)\n",
    "print(\"Test labels and dataset shapes:  \", val_lbl.shape, \",\", val_img.shape)"
   ]
  },
  {
   "cell_type": "markdown",
   "metadata": {},
   "source": [
    "### Display example training data\n",
    "\n",
    "Let us take a look at the first 7 images and their labels:"
   ]
  },
  {
   "cell_type": "code",
   "execution_count": 4,
   "metadata": {},
   "outputs": [
    {
     "data": {
      "image/png": "[encoded data removed]",
      "text/plain": [
       "<matplotlib.figure.Figure at 0x1dc5cb1f198>"
      ]
     },
     "metadata": {},
     "output_type": "display_data"
    },
    {
     "name": "stdout",
     "output_type": "stream",
     "text": [
      "labels: [9 0 0 3 0 2 7 2 5 5]\n",
      "('Ankle boot', 'T-shirt/top', 'T-shirt/top', 'Dress', 'T-shirt/top', 'Pullover', 'Sneaker', 'Pullover', 'Sandal', 'Sandal')\n"
     ]
    }
   ],
   "source": [
    "pict_number = 10\n",
    "\n",
    "for i in range(pict_number):\n",
    "    plt.subplot(1,pict_number,i+1)\n",
    "    dsp_img= train_img[i]\n",
    "    plt.imshow(dsp_img, cmap='Greys')\n",
    "    plt.axis('off')\n",
    "\n",
    "plt.show()\n",
    "\n",
    "print('labels: %s' % (train_lbl[0:pict_number],))\n",
    "print(operator.itemgetter(*train_lbl[0:pict_number])(fashion_labels))"
   ]
  },
  {
   "cell_type": "markdown",
   "metadata": {},
   "source": [
    "Now let us see how, for example, the 1st image is represented in the dataset. Each pixel is described by one `uint8` number - an amount of light, that is, it carries only intensity information."
   ]
  },
  {
   "cell_type": "code",
   "execution_count": 5,
   "metadata": {},
   "outputs": [
    {
     "data": {
      "text/plain": [
       "array([[  0,   0,   0,   0,   0,   0,   0,   0,   0,   0,   0,   0,   0,\n",
       "          0,   0,   0,   0,   0,   0,   0,   0,   0,   0,   0,   0,   0,\n",
       "          0,   0],\n",
       "       [  0,   0,   0,   0,   0,   0,   0,   0,   0,   0,   0,   0,   0,\n",
       "          0,   0,   0,   0,   0,   0,   0,   0,   0,   0,   0,   0,   0,\n",
       "          0,   0],\n",
       "       [  0,   0,   0,   0,   0,   0,   0,   0,   0,   0,   0,   0,   0,\n",
       "          0,   0,   0,   0,   0,   0,   0,   0,   0,   0,   0,   0,   0,\n",
       "          0,   0],\n",
       "       [  0,   0,   0,   0,   0,   0,   0,   0,   0,   0,   0,   0,   1,\n",
       "          0,   0,  13,  73,   0,   0,   1,   4,   0,   0,   0,   0,   1,\n",
       "          1,   0],\n",
       "       [  0,   0,   0,   0,   0,   0,   0,   0,   0,   0,   0,   0,   3,\n",
       "          0,  36, 136, 127,  62,  54,   0,   0,   0,   1,   3,   4,   0,\n",
       "          0,   3],\n",
       "       [  0,   0,   0,   0,   0,   0,   0,   0,   0,   0,   0,   0,   6,\n",
       "          0, 102, 204, 176, 134, 144, 123,  23,   0,   0,   0,   0,  12,\n",
       "         10,   0],\n",
       "       [  0,   0,   0,   0,   0,   0,   0,   0,   0,   0,   0,   0,   0,\n",
       "          0, 155, 236, 207, 178, 107, 156, 161, 109,  64,  23,  77, 130,\n",
       "         72,  15]], dtype=uint8)"
      ]
     },
     "execution_count": 5,
     "metadata": {},
     "output_type": "execute_result"
    }
   ],
   "source": [
    "train_img[0, 0:7]"
   ]
  },
  {
   "cell_type": "markdown",
   "metadata": {},
   "source": [
    "Since all the entry values are now spread from 0 to 255, for the future we will want to normalize our dataset to [0,1], dividing each entry by 255."
   ]
  },
  {
   "cell_type": "code",
   "execution_count": 6,
   "metadata": {},
   "outputs": [
    {
     "data": {
      "text/plain": [
       "array([[ 0.        ,  0.        ,  0.        ,  0.        ,  0.        ,\n",
       "         0.        ,  0.        ,  0.        ,  0.        ,  0.        ,\n",
       "         0.        ,  0.        ,  0.        ,  0.        ,  0.        ,\n",
       "         0.        ,  0.        ,  0.        ,  0.        ,  0.        ,\n",
       "         0.        ,  0.        ,  0.        ,  0.        ,  0.        ,\n",
       "         0.        ,  0.        ,  0.        ],\n",
       "       [ 0.        ,  0.        ,  0.        ,  0.        ,  0.        ,\n",
       "         0.        ,  0.        ,  0.        ,  0.        ,  0.        ,\n",
       "         0.        ,  0.        ,  0.        ,  0.        ,  0.        ,\n",
       "         0.        ,  0.        ,  0.        ,  0.        ,  0.        ,\n",
       "         0.        ,  0.        ,  0.        ,  0.        ,  0.        ,\n",
       "         0.        ,  0.        ,  0.        ],\n",
       "       [ 0.        ,  0.        ,  0.        ,  0.        ,  0.        ,\n",
       "         0.        ,  0.        ,  0.        ,  0.        ,  0.        ,\n",
       "         0.        ,  0.        ,  0.        ,  0.        ,  0.        ,\n",
       "         0.        ,  0.        ,  0.        ,  0.        ,  0.        ,\n",
       "         0.        ,  0.        ,  0.        ,  0.        ,  0.        ,\n",
       "         0.        ,  0.        ,  0.        ],\n",
       "       [ 0.        ,  0.        ,  0.        ,  0.        ,  0.        ,\n",
       "         0.        ,  0.        ,  0.        ,  0.        ,  0.        ,\n",
       "         0.        ,  0.        ,  0.00392157,  0.        ,  0.        ,\n",
       "         0.05098039,  0.28627451,  0.        ,  0.        ,  0.00392157,\n",
       "         0.01568627,  0.        ,  0.        ,  0.        ,  0.        ,\n",
       "         0.00392157,  0.00392157,  0.        ],\n",
       "       [ 0.        ,  0.        ,  0.        ,  0.        ,  0.        ,\n",
       "         0.        ,  0.        ,  0.        ,  0.        ,  0.        ,\n",
       "         0.        ,  0.        ,  0.01176471,  0.        ,  0.14117647,\n",
       "         0.53333333,  0.49803922,  0.24313725,  0.21176471,  0.        ,\n",
       "         0.        ,  0.        ,  0.00392157,  0.01176471,  0.01568627,\n",
       "         0.        ,  0.        ,  0.01176471],\n",
       "       [ 0.        ,  0.        ,  0.        ,  0.        ,  0.        ,\n",
       "         0.        ,  0.        ,  0.        ,  0.        ,  0.        ,\n",
       "         0.        ,  0.        ,  0.02352941,  0.        ,  0.4       ,\n",
       "         0.8       ,  0.69019608,  0.5254902 ,  0.56470588,  0.48235294,\n",
       "         0.09019608,  0.        ,  0.        ,  0.        ,  0.        ,\n",
       "         0.04705882,  0.03921569,  0.        ],\n",
       "       [ 0.        ,  0.        ,  0.        ,  0.        ,  0.        ,\n",
       "         0.        ,  0.        ,  0.        ,  0.        ,  0.        ,\n",
       "         0.        ,  0.        ,  0.        ,  0.        ,  0.60784314,\n",
       "         0.9254902 ,  0.81176471,  0.69803922,  0.41960784,  0.61176471,\n",
       "         0.63137255,  0.42745098,  0.25098039,  0.09019608,  0.30196078,\n",
       "         0.50980392,  0.28235294,  0.05882353]])"
      ]
     },
     "execution_count": 6,
     "metadata": {},
     "output_type": "execute_result"
    }
   ],
   "source": [
    "train_img = train_img / 255\n",
    "val_img = val_img / 255\n",
    "train_img[0, 0:7]"
   ]
  },
  {
   "cell_type": "markdown",
   "metadata": {},
   "source": [
    "Let us count, how many items with a certain label there are in the training and test sets. We see that there are 6000 examples of each product type in the training set and 1000 - in the test set. That is, the distribution is homogenious."
   ]
  },
  {
   "cell_type": "code",
   "execution_count": 7,
   "metadata": {},
   "outputs": [
    {
     "name": "stdout",
     "output_type": "stream",
     "text": [
      "Distribution of items across labels for training: [6000 6000 6000 6000 6000 6000 6000 6000 6000 6000]\n",
      "Distribution of items across labels for testing: [1000 1000 1000 1000 1000 1000 1000 1000 1000 1000]\n"
     ]
    }
   ],
   "source": [
    "print(\"Distribution of items across labels for training:\", np.bincount(train_lbl))\n",
    "print(\"Distribution of items across labels for testing:\", np.bincount(val_lbl))"
   ]
  }
 ],
 "metadata": {
  "kernelspec": {
   "display_name": "Python 3",
   "language": "python",
   "name": "python3"
  },
  "language_info": {
   "codemirror_mode": {
    "name": "ipython",
    "version": 3
   },
   "file_extension": ".py",
   "mimetype": "text/x-python",
   "name": "python",
   "nbconvert_exporter": "python",
   "pygments_lexer": "ipython3",
   "version": "3.6.3"
  }
 },
 "nbformat": 4,
 "nbformat_minor": 2
}
