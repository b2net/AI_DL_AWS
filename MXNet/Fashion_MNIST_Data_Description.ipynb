{
 "cells": [
  {
   "cell_type": "markdown",
   "metadata": {},
   "source": [
    "# Data description\n",
    "**Data from [Zalando GitHub page](https://github.com/zalandoresearch/fashion-mnist)**\n",
    "\n",
    "\n",
    "## Intro\n",
    "**Fashion-MNIST** is a dataset of Zalando's article images, intended to serve as a direct replacement of the original [MNIST](http://yann.lecun.com/exdb/mnist/) dataset for benchmarking machine learning algorithms. It shares the same image size and structure of training and testing splits.\n",
    "\n",
    "**Fashion-MNIST** consists of:\n",
    " - training set of 60,000 examples\n",
    " - test set of 10,000 examples\n",
    " \n",
    "Each example is a 28x28 grayscale image associated with a label from 10 classes:\n",
    "\n",
    "| Label  | Description |\n",
    "| ------ | ----------- |\n",
    "| 0 | T-shirt/top |\n",
    "| 1 | Trouser |\n",
    "| 2 | Pullover |\n",
    "| 3 | Dress |\n",
    "| 4 | Coat |\n",
    "| 5 | Sandal |\n",
    "| 6 | Shirt |\n",
    "| 7 | Sneaker |\n",
    "| 8 | Bag |\n",
    "| 9 | Ankle boot |"
   ]
  },
  {
   "cell_type": "markdown",
   "metadata": {},
   "source": [
    "### Load training and test datasets\n",
    "`download_data` downloads data from a given `url`, if no file with the same name has been downloaded so far,  \n",
    "`read_data` creates labels and datasets from the corresponding .gz files.\n",
    "\n",
    "With these functions we download data from GitHub and create training/test datasets/label."
   ]
  },
  {
   "cell_type": "code",
   "execution_count": 2,
   "metadata": {},
   "outputs": [],
   "source": [
    "import os\n",
    "import gzip\n",
    "import struct\n",
    "import numpy as np\n",
    "import urllib.request\n",
    "\n",
    "def download_data(url, force_download=True): \n",
    "    fname = url.split(\"/\")[-1]\n",
    "    if force_download or not os.path.exists(fname):\n",
    "        urllib.request.urlretrieve(url, fname)\n",
    "    return fname\n",
    "\n",
    "def read_data(label, image):\n",
    "    base_url = 'https://github.com/zalandoresearch/fashion-mnist/raw/master/data/fashion/'\n",
    "    with gzip.open(download_data(base_url+label, os.path.join('data',label))) as flbl:\n",
    "        magic, num = struct.unpack(\">II\", flbl.read(8))\n",
    "        label = np.fromstring(flbl.read(), dtype=np.int8)\n",
    "    with gzip.open(download_data(base_url+image, os.path.join('data',image)), 'rb') as fimg:\n",
    "        magic, num, rows, cols = struct.unpack(\">IIII\", fimg.read(16))\n",
    "        image = np.fromstring(fimg.read(), dtype=np.uint8).reshape(len(label), rows, cols)\n",
    "    return (label, image)\n",
    "\n",
    "(train_lbl, train_img) = read_data('train-labels-idx1-ubyte.gz', 'train-images-idx3-ubyte.gz')\n",
    "(val_lbl, val_img) = read_data('t10k-labels-idx1-ubyte.gz', 't10k-images-idx3-ubyte.gz')"
   ]
  },
  {
   "cell_type": "markdown",
   "metadata": {},
   "source": [
    "Now that the data are loaded we want to know the shapes of train and test datasets: "
   ]
  },
  {
   "cell_type": "code",
   "execution_count": 3,
   "metadata": {},
   "outputs": [
    {
     "name": "stdout",
     "output_type": "stream",
     "text": [
      "Train labels and dataset shapes:  (60000,) , (60000, 28, 28)\n",
      "Test labels and dataset shapes:   (10000,) , (10000, 28, 28)\n"
     ]
    }
   ],
   "source": [
    "print(\"Train labels and dataset shapes: \", train_lbl.shape, \",\", train_img.shape)\n",
    "print(\"Test labels and dataset shapes:  \", val_lbl.shape, \",\", val_img.shape)"
   ]
  },
  {
   "cell_type": "markdown",
   "metadata": {},
   "source": [
    "### Display example training data\n",
    "\n",
    "Let us take a look at the first 7 images and their labels:"
   ]
  },
  {
   "cell_type": "code",
   "execution_count": 5,
   "metadata": {},
   "outputs": [
    {
     "data": {
      "image/png": "[encoded data removed]",
      "text/plain": [
       "<matplotlib.figure.Figure at 0x25a083a3ef0>"
      ]
     },
     "metadata": {},
     "output_type": "display_data"
    },
    {
     "name": "stdout",
     "output_type": "stream",
     "text": [
      "label: [9 0 0 3 0 2 7]\n"
     ]
    }
   ],
   "source": [
    "import matplotlib.pyplot as plt\n",
    "\n",
    "for i in range(7):\n",
    "    plt.subplot(1,7,i+1)\n",
    "    dsp_img= train_img[i]\n",
    "    plt.imshow(dsp_img, cmap='Greys')\n",
    "    plt.axis('off')\n",
    "\n",
    "plt.show()\n",
    "print('label: %s' % (train_lbl[0:7],))"
   ]
  },
  {
   "cell_type": "markdown",
   "metadata": {},
   "source": [
    "Now let us see how, for example, the 1st image is represented in the dataset. Each pixel is described by one `uint8` number - an amount of light, that is, it carries only intensity information."
   ]
  },
  {
   "cell_type": "code",
   "execution_count": 6,
   "metadata": {},
   "outputs": [
    {
     "data": {
      "text/plain": [
       "array([[  0,   0,   0,   0,   0,   0,   0,   0,   0,   0,   0,   0,   0,\n",
       "          0,   0,   0,   0,   0,   0,   0,   0,   0,   0,   0,   0,   0,\n",
       "          0,   0],\n",
       "       [  0,   0,   0,   0,   0,   0,   0,   0,   0,   0,   0,   0,   0,\n",
       "          0,   0,   0,   0,   0,   0,   0,   0,   0,   0,   0,   0,   0,\n",
       "          0,   0],\n",
       "       [  0,   0,   0,   0,   0,   0,   0,   0,   0,   0,   0,   0,   0,\n",
       "          0,   0,   0,   0,   0,   0,   0,   0,   0,   0,   0,   0,   0,\n",
       "          0,   0],\n",
       "       [  0,   0,   0,   0,   0,   0,   0,   0,   0,   0,   0,   0,   1,\n",
       "          0,   0,  13,  73,   0,   0,   1,   4,   0,   0,   0,   0,   1,\n",
       "          1,   0],\n",
       "       [  0,   0,   0,   0,   0,   0,   0,   0,   0,   0,   0,   0,   3,\n",
       "          0,  36, 136, 127,  62,  54,   0,   0,   0,   1,   3,   4,   0,\n",
       "          0,   3],\n",
       "       [  0,   0,   0,   0,   0,   0,   0,   0,   0,   0,   0,   0,   6,\n",
       "          0, 102, 204, 176, 134, 144, 123,  23,   0,   0,   0,   0,  12,\n",
       "         10,   0],\n",
       "       [  0,   0,   0,   0,   0,   0,   0,   0,   0,   0,   0,   0,   0,\n",
       "          0, 155, 236, 207, 178, 107, 156, 161, 109,  64,  23,  77, 130,\n",
       "         72,  15],\n",
       "       [  0,   0,   0,   0,   0,   0,   0,   0,   0,   0,   0,   1,   0,\n",
       "         69, 207, 223, 218, 216, 216, 163, 127, 121, 122, 146, 141,  88,\n",
       "        172,  66],\n",
       "       [  0,   0,   0,   0,   0,   0,   0,   0,   0,   1,   1,   1,   0,\n",
       "        200, 232, 232, 233, 229, 223, 223, 215, 213, 164, 127, 123, 196,\n",
       "        229,   0],\n",
       "       [  0,   0,   0,   0,   0,   0,   0,   0,   0,   0,   0,   0,   0,\n",
       "        183, 225, 216, 223, 228, 235, 227, 224, 222, 224, 221, 223, 245,\n",
       "        173,   0],\n",
       "       [  0,   0,   0,   0,   0,   0,   0,   0,   0,   0,   0,   0,   0,\n",
       "        193, 228, 218, 213, 198, 180, 212, 210, 211, 213, 223, 220, 243,\n",
       "        202,   0],\n",
       "       [  0,   0,   0,   0,   0,   0,   0,   0,   0,   1,   3,   0,  12,\n",
       "        219, 220, 212, 218, 192, 169, 227, 208, 218, 224, 212, 226, 197,\n",
       "        209,  52],\n",
       "       [  0,   0,   0,   0,   0,   0,   0,   0,   0,   0,   6,   0,  99,\n",
       "        244, 222, 220, 218, 203, 198, 221, 215, 213, 222, 220, 245, 119,\n",
       "        167,  56],\n",
       "       [  0,   0,   0,   0,   0,   0,   0,   0,   0,   4,   0,   0,  55,\n",
       "        236, 228, 230, 228, 240, 232, 213, 218, 223, 234, 217, 217, 209,\n",
       "         92,   0],\n",
       "       [  0,   0,   1,   4,   6,   7,   2,   0,   0,   0,   0,   0, 237,\n",
       "        226, 217, 223, 222, 219, 222, 221, 216, 223, 229, 215, 218, 255,\n",
       "         77,   0],\n",
       "       [  0,   3,   0,   0,   0,   0,   0,   0,   0,  62, 145, 204, 228,\n",
       "        207, 213, 221, 218, 208, 211, 218, 224, 223, 219, 215, 224, 244,\n",
       "        159,   0],\n",
       "       [  0,   0,   0,   0,  18,  44,  82, 107, 189, 228, 220, 222, 217,\n",
       "        226, 200, 205, 211, 230, 224, 234, 176, 188, 250, 248, 233, 238,\n",
       "        215,   0],\n",
       "       [  0,  57, 187, 208, 224, 221, 224, 208, 204, 214, 208, 209, 200,\n",
       "        159, 245, 193, 206, 223, 255, 255, 221, 234, 221, 211, 220, 232,\n",
       "        246,   0],\n",
       "       [  3, 202, 228, 224, 221, 211, 211, 214, 205, 205, 205, 220, 240,\n",
       "         80, 150, 255, 229, 221, 188, 154, 191, 210, 204, 209, 222, 228,\n",
       "        225,   0],\n",
       "       [ 98, 233, 198, 210, 222, 229, 229, 234, 249, 220, 194, 215, 217,\n",
       "        241,  65,  73, 106, 117, 168, 219, 221, 215, 217, 223, 223, 224,\n",
       "        229,  29],\n",
       "       [ 75, 204, 212, 204, 193, 205, 211, 225, 216, 185, 197, 206, 198,\n",
       "        213, 240, 195, 227, 245, 239, 223, 218, 212, 209, 222, 220, 221,\n",
       "        230,  67],\n",
       "       [ 48, 203, 183, 194, 213, 197, 185, 190, 194, 192, 202, 214, 219,\n",
       "        221, 220, 236, 225, 216, 199, 206, 186, 181, 177, 172, 181, 205,\n",
       "        206, 115],\n",
       "       [  0, 122, 219, 193, 179, 171, 183, 196, 204, 210, 213, 207, 211,\n",
       "        210, 200, 196, 194, 191, 195, 191, 198, 192, 176, 156, 167, 177,\n",
       "        210,  92],\n",
       "       [  0,   0,  74, 189, 212, 191, 175, 172, 175, 181, 185, 188, 189,\n",
       "        188, 193, 198, 204, 209, 210, 210, 211, 188, 188, 194, 192, 216,\n",
       "        170,   0],\n",
       "       [  2,   0,   0,   0,  66, 200, 222, 237, 239, 242, 246, 243, 244,\n",
       "        221, 220, 193, 191, 179, 182, 182, 181, 176, 166, 168,  99,  58,\n",
       "          0,   0],\n",
       "       [  0,   0,   0,   0,   0,   0,   0,  40,  61,  44,  72,  41,  35,\n",
       "          0,   0,   0,   0,   0,   0,   0,   0,   0,   0,   0,   0,   0,\n",
       "          0,   0],\n",
       "       [  0,   0,   0,   0,   0,   0,   0,   0,   0,   0,   0,   0,   0,\n",
       "          0,   0,   0,   0,   0,   0,   0,   0,   0,   0,   0,   0,   0,\n",
       "          0,   0],\n",
       "       [  0,   0,   0,   0,   0,   0,   0,   0,   0,   0,   0,   0,   0,\n",
       "          0,   0,   0,   0,   0,   0,   0,   0,   0,   0,   0,   0,   0,\n",
       "          0,   0]], dtype=uint8)"
      ]
     },
     "execution_count": 6,
     "metadata": {},
     "output_type": "execute_result"
    }
   ],
   "source": [
    "train_img[0]"
   ]
  },
  {
   "cell_type": "markdown",
   "metadata": {},
   "source": [
    "Since all the entry values are now spread from 0 to 255, for the future we will want to normalize our dataset to [0,1], dividing each entry by 255."
   ]
  },
  {
   "cell_type": "code",
   "execution_count": 7,
   "metadata": {},
   "outputs": [
    {
     "data": {
      "text/plain": [
       "array([[ 0.        ,  0.        ,  0.        ,  0.        ,  0.        ,\n",
       "         0.00392157,  0.        ,  0.        ,  0.        ,  0.        ,\n",
       "         0.16078431,  0.7372549 ,  0.40392157,  0.21176471,  0.18823529,\n",
       "         0.16862745,  0.34117647,  0.65882353,  0.52156863,  0.0627451 ,\n",
       "         0.        ,  0.        ,  0.        ,  0.        ,  0.        ,\n",
       "         0.        ,  0.        ,  0.        ],\n",
       "       [ 0.        ,  0.        ,  0.        ,  0.00392157,  0.        ,\n",
       "         0.        ,  0.        ,  0.19215686,  0.53333333,  0.85882353,\n",
       "         0.84705882,  0.89411765,  0.9254902 ,  1.        ,  1.        ,\n",
       "         1.        ,  1.        ,  0.85098039,  0.84313725,  0.99607843,\n",
       "         0.90588235,  0.62745098,  0.17647059,  0.        ,  0.        ,\n",
       "         0.        ,  0.        ,  0.        ],\n",
       "       [ 0.        ,  0.        ,  0.        ,  0.        ,  0.        ,\n",
       "         0.05490196,  0.69019608,  0.87058824,  0.87843137,  0.83137255,\n",
       "         0.79607843,  0.77647059,  0.76862745,  0.78431373,  0.84313725,\n",
       "         0.8       ,  0.79215686,  0.78823529,  0.78823529,  0.78823529,\n",
       "         0.81960784,  0.85490196,  0.87843137,  0.64313725,  0.        ,\n",
       "         0.        ,  0.        ,  0.        ],\n",
       "       [ 0.        ,  0.        ,  0.        ,  0.        ,  0.        ,\n",
       "         0.7372549 ,  0.85882353,  0.78431373,  0.77647059,  0.79215686,\n",
       "         0.77647059,  0.78039216,  0.78039216,  0.78823529,  0.76862745,\n",
       "         0.77647059,  0.77647059,  0.78431373,  0.78431373,  0.78431373,\n",
       "         0.78431373,  0.78823529,  0.78431373,  0.88235294,  0.16078431,\n",
       "         0.        ,  0.        ,  0.        ],\n",
       "       [ 0.        ,  0.        ,  0.        ,  0.        ,  0.2       ,\n",
       "         0.85882353,  0.78039216,  0.79607843,  0.79607843,  0.83137255,\n",
       "         0.93333333,  0.97254902,  0.98039216,  0.96078431,  0.97647059,\n",
       "         0.96470588,  0.96862745,  0.98823529,  0.97254902,  0.92156863,\n",
       "         0.81176471,  0.79607843,  0.79607843,  0.87058824,  0.54901961,\n",
       "         0.        ,  0.        ,  0.        ],\n",
       "       [ 0.        ,  0.        ,  0.        ,  0.        ,  0.45490196,\n",
       "         0.88627451,  0.80784314,  0.8       ,  0.81176471,  0.8       ,\n",
       "         0.39607843,  0.29411765,  0.18431373,  0.28627451,  0.18823529,\n",
       "         0.19607843,  0.17647059,  0.2       ,  0.24705882,  0.44313725,\n",
       "         0.87058824,  0.79215686,  0.80784314,  0.8627451 ,  0.87843137,\n",
       "         0.        ,  0.        ,  0.        ],\n",
       "       [ 0.        ,  0.        ,  0.        ,  0.        ,  0.78431373,\n",
       "         0.87058824,  0.81960784,  0.79607843,  0.84313725,  0.78431373,\n",
       "         0.        ,  0.2745098 ,  0.38431373,  0.        ,  0.40392157,\n",
       "         0.23137255,  0.26666667,  0.27843137,  0.19215686,  0.        ,\n",
       "         0.85882353,  0.80784314,  0.83921569,  0.82352941,  0.98039216,\n",
       "         0.14901961,  0.        ,  0.        ],\n",
       "       [ 0.        ,  0.        ,  0.        ,  0.        ,  0.96862745,\n",
       "         0.85490196,  0.83137255,  0.82352941,  0.84313725,  0.83921569,\n",
       "         0.        ,  0.99607843,  0.95294118,  0.54509804,  1.        ,\n",
       "         0.68235294,  0.98431373,  1.        ,  0.80392157,  0.        ,\n",
       "         0.84313725,  0.85098039,  0.83921569,  0.81568627,  0.8627451 ,\n",
       "         0.37254902,  0.        ,  0.        ],\n",
       "       [ 0.        ,  0.        ,  0.        ,  0.17647059,  0.88627451,\n",
       "         0.83921569,  0.83921569,  0.84313725,  0.87843137,  0.80392157,\n",
       "         0.        ,  0.16470588,  0.1372549 ,  0.23529412,  0.0627451 ,\n",
       "         0.06666667,  0.04705882,  0.05098039,  0.2745098 ,  0.        ,\n",
       "         0.74117647,  0.84705882,  0.83137255,  0.80784314,  0.83137255,\n",
       "         0.61176471,  0.        ,  0.        ],\n",
       "       [ 0.        ,  0.        ,  0.        ,  0.64313725,  0.92156863,\n",
       "         0.83921569,  0.82745098,  0.8627451 ,  0.84705882,  0.78823529,\n",
       "         0.20392157,  0.27843137,  0.34901961,  0.36862745,  0.3254902 ,\n",
       "         0.30588235,  0.2745098 ,  0.29803922,  0.36078431,  0.34117647,\n",
       "         0.80784314,  0.81176471,  0.87058824,  0.83529412,  0.85882353,\n",
       "         0.81568627,  0.        ,  0.        ],\n",
       "       [ 0.        ,  0.        ,  0.        ,  0.41568627,  0.73333333,\n",
       "         0.8745098 ,  0.92941176,  0.97254902,  0.82745098,  0.77647059,\n",
       "         0.98823529,  0.98039216,  0.97254902,  0.96078431,  0.97254902,\n",
       "         0.98823529,  0.99215686,  0.98039216,  0.98823529,  0.9372549 ,\n",
       "         0.78823529,  0.83137255,  0.88235294,  0.84313725,  0.75686275,\n",
       "         0.44313725,  0.        ,  0.        ],\n",
       "       [ 0.        ,  0.        ,  0.        ,  0.        ,  0.        ,\n",
       "         0.06666667,  0.21176471,  0.62352941,  0.87058824,  0.75686275,\n",
       "         0.81568627,  0.75294118,  0.77254902,  0.78431373,  0.78431373,\n",
       "         0.78431373,  0.78431373,  0.78823529,  0.79607843,  0.76470588,\n",
       "         0.82352941,  0.64705882,  0.        ,  0.        ,  0.        ,\n",
       "         0.        ,  0.        ,  0.        ],\n",
       "       [ 0.        ,  0.        ,  0.        ,  0.        ,  0.        ,\n",
       "         0.        ,  0.        ,  0.18431373,  0.88235294,  0.75294118,\n",
       "         0.83921569,  0.79607843,  0.80784314,  0.8       ,  0.8       ,\n",
       "         0.80392157,  0.80784314,  0.8       ,  0.83137255,  0.77254902,\n",
       "         0.85490196,  0.41960784,  0.        ,  0.        ,  0.        ,\n",
       "         0.        ,  0.        ,  0.        ],\n",
       "       [ 0.        ,  0.        ,  0.        ,  0.        ,  0.00392157,\n",
       "         0.02352941,  0.        ,  0.18039216,  0.83137255,  0.76470588,\n",
       "         0.83137255,  0.79215686,  0.80784314,  0.80392157,  0.8       ,\n",
       "         0.80392157,  0.80784314,  0.8       ,  0.83137255,  0.78431373,\n",
       "         0.85490196,  0.35686275,  0.        ,  0.01176471,  0.00392157,\n",
       "         0.        ,  0.        ,  0.        ],\n",
       "       [ 0.        ,  0.        ,  0.        ,  0.        ,  0.        ,\n",
       "         0.00392157,  0.        ,  0.04313725,  0.77254902,  0.78039216,\n",
       "         0.80392157,  0.79215686,  0.80392157,  0.80784314,  0.8       ,\n",
       "         0.80392157,  0.81176471,  0.8       ,  0.80392157,  0.80392157,\n",
       "         0.85490196,  0.30196078,  0.        ,  0.01960784,  0.        ,\n",
       "         0.        ,  0.        ,  0.        ],\n",
       "       [ 0.        ,  0.        ,  0.        ,  0.        ,  0.        ,\n",
       "         0.01176471,  0.        ,  0.00784314,  0.74901961,  0.77647059,\n",
       "         0.78823529,  0.80392157,  0.80784314,  0.80392157,  0.80392157,\n",
       "         0.80784314,  0.81960784,  0.80784314,  0.78039216,  0.81960784,\n",
       "         0.85882353,  0.29019608,  0.        ,  0.01960784,  0.        ,\n",
       "         0.        ,  0.        ,  0.        ],\n",
       "       [ 0.        ,  0.        ,  0.        ,  0.        ,  0.        ,\n",
       "         0.00784314,  0.        ,  0.        ,  0.7372549 ,  0.77254902,\n",
       "         0.78431373,  0.81176471,  0.81176471,  0.8       ,  0.81176471,\n",
       "         0.81176471,  0.82352941,  0.81568627,  0.77647059,  0.81176471,\n",
       "         0.86666667,  0.28235294,  0.        ,  0.01568627,  0.        ,\n",
       "         0.        ,  0.        ,  0.        ],\n",
       "       [ 0.        ,  0.        ,  0.        ,  0.        ,  0.        ,\n",
       "         0.00784314,  0.        ,  0.        ,  0.84313725,  0.77647059,\n",
       "         0.79607843,  0.80784314,  0.81568627,  0.80392157,  0.81176471,\n",
       "         0.81176471,  0.82352941,  0.81568627,  0.78431373,  0.79215686,\n",
       "         0.87058824,  0.29411765,  0.        ,  0.01568627,  0.        ,\n",
       "         0.        ,  0.        ,  0.        ],\n",
       "       [ 0.        ,  0.        ,  0.        ,  0.        ,  0.        ,\n",
       "         0.00392157,  0.        ,  0.        ,  0.83137255,  0.77647059,\n",
       "         0.81960784,  0.80784314,  0.81960784,  0.80784314,  0.81568627,\n",
       "         0.81176471,  0.82745098,  0.80784314,  0.80392157,  0.77647059,\n",
       "         0.86666667,  0.31372549,  0.        ,  0.01176471,  0.        ,\n",
       "         0.        ,  0.        ,  0.        ],\n",
       "       [ 0.        ,  0.        ,  0.        ,  0.        ,  0.        ,\n",
       "         0.00392157,  0.        ,  0.        ,  0.8       ,  0.78823529,\n",
       "         0.80392157,  0.81568627,  0.81176471,  0.80392157,  0.82745098,\n",
       "         0.80392157,  0.82352941,  0.82352941,  0.81960784,  0.76470588,\n",
       "         0.86666667,  0.37647059,  0.        ,  0.01176471,  0.        ,\n",
       "         0.        ,  0.        ,  0.        ],\n",
       "       [ 0.        ,  0.        ,  0.        ,  0.        ,  0.        ,\n",
       "         0.00392157,  0.        ,  0.        ,  0.79215686,  0.78823529,\n",
       "         0.80392157,  0.81960784,  0.81176471,  0.80392157,  0.83529412,\n",
       "         0.80784314,  0.82352941,  0.81960784,  0.82352941,  0.76078431,\n",
       "         0.85098039,  0.41176471,  0.        ,  0.00784314,  0.        ,\n",
       "         0.        ,  0.        ,  0.        ],\n",
       "       [ 0.        ,  0.        ,  0.        ,  0.        ,  0.        ,\n",
       "         0.00392157,  0.        ,  0.        ,  0.8       ,  0.8       ,\n",
       "         0.80392157,  0.81568627,  0.81176471,  0.80392157,  0.84313725,\n",
       "         0.81176471,  0.82352941,  0.81568627,  0.82745098,  0.75686275,\n",
       "         0.83529412,  0.45098039,  0.        ,  0.00784314,  0.        ,\n",
       "         0.        ,  0.        ,  0.        ],\n",
       "       [ 0.        ,  0.        ,  0.        ,  0.        ,  0.        ,\n",
       "         0.        ,  0.        ,  0.        ,  0.8       ,  0.81176471,\n",
       "         0.81176471,  0.81568627,  0.80784314,  0.80784314,  0.84313725,\n",
       "         0.82352941,  0.82352941,  0.81176471,  0.83137255,  0.76470588,\n",
       "         0.82352941,  0.4627451 ,  0.        ,  0.00784314,  0.        ,\n",
       "         0.        ,  0.        ,  0.        ],\n",
       "       [ 0.        ,  0.        ,  0.        ,  0.        ,  0.        ,\n",
       "         0.00392157,  0.        ,  0.        ,  0.77647059,  0.81568627,\n",
       "         0.81568627,  0.81568627,  0.8       ,  0.81176471,  0.83137255,\n",
       "         0.83137255,  0.82352941,  0.81176471,  0.82745098,  0.76862745,\n",
       "         0.81176471,  0.4745098 ,  0.        ,  0.00392157,  0.        ,\n",
       "         0.        ,  0.        ,  0.        ],\n",
       "       [ 0.        ,  0.        ,  0.        ,  0.        ,  0.        ,\n",
       "         0.00392157,  0.        ,  0.        ,  0.77647059,  0.82352941,\n",
       "         0.81176471,  0.81568627,  0.80784314,  0.81960784,  0.83529412,\n",
       "         0.83137255,  0.82745098,  0.81176471,  0.82352941,  0.77254902,\n",
       "         0.81176471,  0.48627451,  0.        ,  0.00392157,  0.        ,\n",
       "         0.        ,  0.        ,  0.        ],\n",
       "       [ 0.        ,  0.        ,  0.        ,  0.        ,  0.        ,\n",
       "         0.        ,  0.        ,  0.        ,  0.6745098 ,  0.82352941,\n",
       "         0.79607843,  0.78823529,  0.78039216,  0.8       ,  0.81176471,\n",
       "         0.80392157,  0.8       ,  0.78823529,  0.80392157,  0.77254902,\n",
       "         0.80784314,  0.49803922,  0.        ,  0.        ,  0.        ,\n",
       "         0.        ,  0.        ,  0.        ],\n",
       "       [ 0.        ,  0.        ,  0.        ,  0.        ,  0.        ,\n",
       "         0.        ,  0.        ,  0.        ,  0.7372549 ,  0.86666667,\n",
       "         0.83921569,  0.91764706,  0.9254902 ,  0.93333333,  0.95686275,\n",
       "         0.95686275,  0.95686275,  0.94117647,  0.95294118,  0.83921569,\n",
       "         0.87843137,  0.63529412,  0.        ,  0.00784314,  0.        ,\n",
       "         0.        ,  0.        ,  0.        ],\n",
       "       [ 0.        ,  0.        ,  0.        ,  0.        ,  0.        ,\n",
       "         0.00392157,  0.        ,  0.        ,  0.54509804,  0.57254902,\n",
       "         0.50980392,  0.52941176,  0.52941176,  0.5372549 ,  0.49019608,\n",
       "         0.48627451,  0.49019608,  0.4745098 ,  0.46666667,  0.44705882,\n",
       "         0.50980392,  0.29803922,  0.        ,  0.        ,  0.        ,\n",
       "         0.        ,  0.        ,  0.        ]])"
      ]
     },
     "execution_count": 7,
     "metadata": {},
     "output_type": "execute_result"
    }
   ],
   "source": [
    "train_img = train_img/255\n",
    "val_img = val_img/255\n",
    "train_img[1]"
   ]
  },
  {
   "cell_type": "markdown",
   "metadata": {},
   "source": [
    "Let us count, how many items with a certain label there are in the training and test sets. We see that there are 6000 examples of each product type in the training set and 1000 - in the test set. That is, the distribution is homogenious."
   ]
  },
  {
   "cell_type": "code",
   "execution_count": 8,
   "metadata": {},
   "outputs": [
    {
     "name": "stdout",
     "output_type": "stream",
     "text": [
      "Distribution of items across labels for training: [6000 6000 6000 6000 6000 6000 6000 6000 6000 6000]\n",
      "Distribution of items across labels for testing: [1000 1000 1000 1000 1000 1000 1000 1000 1000 1000]\n"
     ]
    }
   ],
   "source": [
    "print(\"Distribution of items across labels for training:\", np.bincount(train_lbl))\n",
    "print(\"Distribution of items across labels for testing:\", np.bincount(val_lbl))"
   ]
  }
 ],
 "metadata": {
  "kernelspec": {
   "display_name": "Python 3",
   "language": "python",
   "name": "python3"
  },
  "language_info": {
   "codemirror_mode": {
    "name": "ipython",
    "version": 3
   },
   "file_extension": ".py",
   "mimetype": "text/x-python",
   "name": "python",
   "nbconvert_exporter": "python",
   "pygments_lexer": "ipython3",
   "version": "3.6.3"
  }
 },
 "nbformat": 4,
 "nbformat_minor": 2
}
