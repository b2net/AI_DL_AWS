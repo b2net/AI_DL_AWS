{
 "cells": [
  {
   "cell_type": "markdown",
   "metadata": {},
   "source": [
    "notebook for MXNet visualization, tested on Python 3.6 (Win 10 lokal and Deep Learning AMI Amazon Linux)"
   ]
  },
  {
   "cell_type": "code",
   "execution_count": 1,
   "metadata": {},
   "outputs": [],
   "source": [
    "import mxnet as mx\n",
    "import mxnet.notebook.callback\n",
    "import numpy as np\n",
    "import os\n",
    "import operator\n",
    "import logging\n",
    "#import urllib         # for Python 2\n",
    "import urllib.request  # for Python 3\n",
    "import gzip\n",
    "import struct\n",
    "import math\n",
    "import cv2\n",
    "import scipy.misc\n",
    "import matplotlib.image as mpimg\n",
    "import matplotlib.pyplot as plt\n",
    "import skimage.transform"
   ]
  },
  {
   "cell_type": "code",
   "execution_count": 2,
   "metadata": {},
   "outputs": [],
   "source": [
    "def download_data(url, force_download=True): \n",
    "    fname = url.split(\"/\")[-1]\n",
    "    \n",
    "    if force_download or not os.path.exists(fname):\n",
    "        urllib.request.urlretrieve(url, fname)\n",
    "        \n",
    "    return fname\n",
    "\n",
    "\n",
    "def to4d(img):\n",
    "    return img.reshape(img.shape[0], 1, 28, 28).astype(np.float32) / 255\n",
    "\n",
    "\n",
    "def read_Fashion_MNIST_data_compact(label, image):\n",
    "    base_url = 'https://github.com/zalandoresearch/fashion-mnist/raw/master/data/fashion/'\n",
    "    \n",
    "    with gzip.open(download_data(base_url + label, False)) as flbl:\n",
    "        flbl.read(8)\n",
    "        label = np.fromstring(flbl.read(), dtype=np.int8)\n",
    "        \n",
    "    with gzip.open(download_data(base_url + image, False), 'rb') as fimg:\n",
    "        # will look up \"struct.unpack\" later\n",
    "        magic, num, rows, cols = struct.unpack(\">IIII\", fimg.read(16))\n",
    "        image = np.fromstring(fimg.read(), dtype=np.uint8).reshape(len(label), rows, cols)\n",
    "        \n",
    "    return (label, image)"
   ]
  },
  {
   "cell_type": "code",
   "execution_count": 3,
   "metadata": {},
   "outputs": [
    {
     "data": {
      "image/png": "[encoded data removed]",
      "text/plain": [
       "<matplotlib.figure.Figure at 0x7fefc43fa668>"
      ]
     },
     "metadata": {},
     "output_type": "display_data"
    },
    {
     "name": "stdout",
     "output_type": "stream",
     "text": [
      "labels: [9 0 0 3 0 2 7 2 5 5]\n",
      "('Ankle boot', 'T-shirt/top', 'T-shirt/top', 'Dress', 'T-shirt/top', 'Pullover', 'Sneaker', 'Pullover', 'Sandal', 'Sandal')\n"
     ]
    }
   ],
   "source": [
    "(train_lbl, train_img) = read_Fashion_MNIST_data_compact('train-labels-idx1-ubyte.gz', 'train-images-idx3-ubyte.gz')\n",
    "(val_lbl, val_img)     = read_Fashion_MNIST_data_compact('t10k-labels-idx1-ubyte.gz', 't10k-images-idx3-ubyte.gz')\n",
    "\n",
    "\n",
    "fashion_labels=['T-shirt/top','Trouser','Pullover','Dress','Coat',\n",
    "                'Sandal','Shirt','Sneaker','Bag','Ankle boot']\n",
    "\n",
    "\n",
    "pict_number = 10\n",
    "\n",
    "for i in range(pict_number):\n",
    "    plt.subplot(1,pict_number,i+1)\n",
    "    dsp_img= train_img[i]\n",
    "    plt.imshow(dsp_img, cmap='Greys')\n",
    "    plt.axis('off')\n",
    "\n",
    "plt.show()\n",
    "\n",
    "\n",
    "print('labels: %s' % (train_lbl[0:pict_number],))\n",
    "print(operator.itemgetter(*train_lbl[0:pict_number])(fashion_labels))\n"
   ]
  },
  {
   "cell_type": "code",
   "execution_count": 4,
   "metadata": {},
   "outputs": [],
   "source": [
    "batch_size = 100\n",
    "\n",
    "train_data_iter = mx.io.NDArrayIter(data = {'fashion_data': to4d(train_img)}, label = {'fashion_item_label': train_lbl}, batch_size = batch_size, shuffle=True)\n",
    "test_data_iter = mx.io.NDArrayIter(data = {'fashion_data': to4d(val_img)}, label = {'fashion_item_label': val_lbl}, batch_size = batch_size)\n",
    "\n",
    "\n",
    "# fashion_item_label = mx.sym.Variable('fashion_item_label')\n",
    "fashion_item_label = mx.symbol.Variable('fashion_item_label')\n",
    "\n",
    "# input\n",
    "data = mx.symbol.Variable('fashion_data')\n",
    "\n",
    "# Flatten the data from 4-D shape into 2-D (batch_size, num_channel*width*height)\n",
    "data = mx.sym.flatten(data = data, name = 'flatten')\n"
   ]
  },
  {
   "cell_type": "code",
   "execution_count": 5,
   "metadata": {},
   "outputs": [
    {
     "data": {
      "image/svg+xml": [
       "<?xml version=\"1.0\" encoding=\"UTF-8\" standalone=\"no\"?>\n",
       "<!DOCTYPE svg PUBLIC \"-//W3C//DTD SVG 1.1//EN\"\n",
       " \"http://www.w3.org/Graphics/SVG/1.1/DTD/svg11.dtd\">\n",
       "<!-- Generated by graphviz version 2.38.0 (20140413.2041)\n",
       " -->\n",
       "<!-- Title: plot Pages: 1 -->\n",
       "<svg width=\"214pt\" height=\"724pt\"\n",
       " viewBox=\"0.00 0.00 214.00 724.00\" xmlns=\"http://www.w3.org/2000/svg\" xmlns:xlink=\"http://www.w3.org/1999/xlink\">\n",
       "<g id=\"graph0\" class=\"graph\" transform=\"scale(1 1) rotate(0) translate(4 720)\">\n",
       "<title>plot</title>\n",
       "<polygon fill=\"white\" stroke=\"none\" points=\"-4,4 -4,-720 210,-720 210,4 -4,4\"/>\n",
       "<!-- fashion_data -->\n",
       "<g id=\"node1\" class=\"node\"><title>fashion_data</title>\n",
       "<ellipse fill=\"#8dd3c7\" stroke=\"black\" cx=\"47\" cy=\"-29\" rx=\"47\" ry=\"29\"/>\n",
       "<text text-anchor=\"middle\" x=\"47\" y=\"-25.3\" font-family=\"Times,serif\" font-size=\"14.00\">fashion_data</text>\n",
       "</g>\n",
       "<!-- flatten -->\n",
       "<g id=\"node2\" class=\"node\"><title>flatten</title>\n",
       "<polygon fill=\"#fdb462\" stroke=\"black\" points=\"94,-152 -7.10543e-15,-152 -7.10543e-15,-94 94,-94 94,-152\"/>\n",
       "<text text-anchor=\"middle\" x=\"47\" y=\"-119.3\" font-family=\"Times,serif\" font-size=\"14.00\">flatten</text>\n",
       "</g>\n",
       "<!-- flatten&#45;&gt;fashion_data -->\n",
       "<g id=\"edge1\" class=\"edge\"><title>flatten&#45;&gt;fashion_data</title>\n",
       "<path fill=\"none\" stroke=\"black\" d=\"M47,-83.7443C47,-75.2043 47,-66.2977 47,-58.2479\"/>\n",
       "<polygon fill=\"black\" stroke=\"black\" points=\"47,-93.8971 42.5001,-83.897 47,-88.8971 47.0001,-83.8971 47.0001,-83.8971 47.0001,-83.8971 47,-88.8971 51.5001,-83.8971 47,-93.8971 47,-93.8971\"/>\n",
       "</g>\n",
       "<!-- fullyconnected0 -->\n",
       "<g id=\"node3\" class=\"node\"><title>fullyconnected0</title>\n",
       "<polygon fill=\"#fb8072\" stroke=\"black\" points=\"94,-246 -7.10543e-15,-246 -7.10543e-15,-188 94,-188 94,-246\"/>\n",
       "<text text-anchor=\"middle\" x=\"47\" y=\"-220.8\" font-family=\"Times,serif\" font-size=\"14.00\">FullyConnected</text>\n",
       "<text text-anchor=\"middle\" x=\"47\" y=\"-205.8\" font-family=\"Times,serif\" font-size=\"14.00\">128</text>\n",
       "</g>\n",
       "<!-- fullyconnected0&#45;&gt;flatten -->\n",
       "<g id=\"edge2\" class=\"edge\"><title>fullyconnected0&#45;&gt;flatten</title>\n",
       "<path fill=\"none\" stroke=\"black\" d=\"M47,-177.744C47,-169.204 47,-160.298 47,-152.248\"/>\n",
       "<polygon fill=\"black\" stroke=\"black\" points=\"47,-187.897 42.5001,-177.897 47,-182.897 47.0001,-177.897 47.0001,-177.897 47.0001,-177.897 47,-182.897 51.5001,-177.897 47,-187.897 47,-187.897\"/>\n",
       "</g>\n",
       "<!-- activation0 -->\n",
       "<g id=\"node4\" class=\"node\"><title>activation0</title>\n",
       "<polygon fill=\"#ffffb3\" stroke=\"black\" points=\"94,-340 -7.10543e-15,-340 -7.10543e-15,-282 94,-282 94,-340\"/>\n",
       "<text text-anchor=\"middle\" x=\"47\" y=\"-314.8\" font-family=\"Times,serif\" font-size=\"14.00\">Activation</text>\n",
       "<text text-anchor=\"middle\" x=\"47\" y=\"-299.8\" font-family=\"Times,serif\" font-size=\"14.00\">relu</text>\n",
       "</g>\n",
       "<!-- activation0&#45;&gt;fullyconnected0 -->\n",
       "<g id=\"edge3\" class=\"edge\"><title>activation0&#45;&gt;fullyconnected0</title>\n",
       "<path fill=\"none\" stroke=\"black\" d=\"M47,-271.744C47,-263.204 47,-254.298 47,-246.248\"/>\n",
       "<polygon fill=\"black\" stroke=\"black\" points=\"47,-281.897 42.5001,-271.897 47,-276.897 47.0001,-271.897 47.0001,-271.897 47.0001,-271.897 47,-276.897 51.5001,-271.897 47,-281.897 47,-281.897\"/>\n",
       "</g>\n",
       "<!-- fullyconnected1 -->\n",
       "<g id=\"node5\" class=\"node\"><title>fullyconnected1</title>\n",
       "<polygon fill=\"#fb8072\" stroke=\"black\" points=\"94,-434 -7.10543e-15,-434 -7.10543e-15,-376 94,-376 94,-434\"/>\n",
       "<text text-anchor=\"middle\" x=\"47\" y=\"-408.8\" font-family=\"Times,serif\" font-size=\"14.00\">FullyConnected</text>\n",
       "<text text-anchor=\"middle\" x=\"47\" y=\"-393.8\" font-family=\"Times,serif\" font-size=\"14.00\">64</text>\n",
       "</g>\n",
       "<!-- fullyconnected1&#45;&gt;activation0 -->\n",
       "<g id=\"edge4\" class=\"edge\"><title>fullyconnected1&#45;&gt;activation0</title>\n",
       "<path fill=\"none\" stroke=\"black\" d=\"M47,-365.744C47,-357.204 47,-348.298 47,-340.248\"/>\n",
       "<polygon fill=\"black\" stroke=\"black\" points=\"47,-375.897 42.5001,-365.897 47,-370.897 47.0001,-365.897 47.0001,-365.897 47.0001,-365.897 47,-370.897 51.5001,-365.897 47,-375.897 47,-375.897\"/>\n",
       "</g>\n",
       "<!-- activation1 -->\n",
       "<g id=\"node6\" class=\"node\"><title>activation1</title>\n",
       "<polygon fill=\"#ffffb3\" stroke=\"black\" points=\"94,-528 -7.10543e-15,-528 -7.10543e-15,-470 94,-470 94,-528\"/>\n",
       "<text text-anchor=\"middle\" x=\"47\" y=\"-502.8\" font-family=\"Times,serif\" font-size=\"14.00\">Activation</text>\n",
       "<text text-anchor=\"middle\" x=\"47\" y=\"-487.8\" font-family=\"Times,serif\" font-size=\"14.00\">relu</text>\n",
       "</g>\n",
       "<!-- activation1&#45;&gt;fullyconnected1 -->\n",
       "<g id=\"edge5\" class=\"edge\"><title>activation1&#45;&gt;fullyconnected1</title>\n",
       "<path fill=\"none\" stroke=\"black\" d=\"M47,-459.744C47,-451.204 47,-442.298 47,-434.248\"/>\n",
       "<polygon fill=\"black\" stroke=\"black\" points=\"47,-469.897 42.5001,-459.897 47,-464.897 47.0001,-459.897 47.0001,-459.897 47.0001,-459.897 47,-464.897 51.5001,-459.897 47,-469.897 47,-469.897\"/>\n",
       "</g>\n",
       "<!-- fullyconnected2 -->\n",
       "<g id=\"node7\" class=\"node\"><title>fullyconnected2</title>\n",
       "<polygon fill=\"#fb8072\" stroke=\"black\" points=\"94,-622 -7.10543e-15,-622 -7.10543e-15,-564 94,-564 94,-622\"/>\n",
       "<text text-anchor=\"middle\" x=\"47\" y=\"-596.8\" font-family=\"Times,serif\" font-size=\"14.00\">FullyConnected</text>\n",
       "<text text-anchor=\"middle\" x=\"47\" y=\"-581.8\" font-family=\"Times,serif\" font-size=\"14.00\">10</text>\n",
       "</g>\n",
       "<!-- fullyconnected2&#45;&gt;activation1 -->\n",
       "<g id=\"edge6\" class=\"edge\"><title>fullyconnected2&#45;&gt;activation1</title>\n",
       "<path fill=\"none\" stroke=\"black\" d=\"M47,-553.744C47,-545.204 47,-536.298 47,-528.248\"/>\n",
       "<polygon fill=\"black\" stroke=\"black\" points=\"47,-563.897 42.5001,-553.897 47,-558.897 47.0001,-553.897 47.0001,-553.897 47.0001,-553.897 47,-558.897 51.5001,-553.897 47,-563.897 47,-563.897\"/>\n",
       "</g>\n",
       "<!-- fashion_item_label -->\n",
       "<g id=\"node8\" class=\"node\"><title>fashion_item_label</title>\n",
       "<ellipse fill=\"#8dd3c7\" stroke=\"black\" cx=\"159\" cy=\"-593\" rx=\"47\" ry=\"29\"/>\n",
       "<text text-anchor=\"middle\" x=\"159\" y=\"-589.3\" font-family=\"Times,serif\" font-size=\"14.00\">fashion_item_label</text>\n",
       "</g>\n",
       "<!-- softmax -->\n",
       "<g id=\"node9\" class=\"node\"><title>softmax</title>\n",
       "<polygon fill=\"#fccde5\" stroke=\"black\" points=\"150,-716 56,-716 56,-658 150,-658 150,-716\"/>\n",
       "<text text-anchor=\"middle\" x=\"103\" y=\"-683.3\" font-family=\"Times,serif\" font-size=\"14.00\">softmax</text>\n",
       "</g>\n",
       "<!-- softmax&#45;&gt;fullyconnected2 -->\n",
       "<g id=\"edge7\" class=\"edge\"><title>softmax&#45;&gt;fullyconnected2</title>\n",
       "<path fill=\"none\" stroke=\"black\" d=\"M80.5686,-649.148C75.113,-640.186 69.3635,-630.74 64.1943,-622.248\"/>\n",
       "<polygon fill=\"black\" stroke=\"black\" points=\"85.8939,-657.897 76.8505,-651.695 83.2941,-653.626 80.6944,-649.355 80.6944,-649.355 80.6944,-649.355 83.2941,-653.626 84.5383,-647.015 85.8939,-657.897 85.8939,-657.897\"/>\n",
       "</g>\n",
       "<!-- softmax&#45;&gt;fashion_item_label -->\n",
       "<g id=\"edge8\" class=\"edge\"><title>softmax&#45;&gt;fashion_item_label</title>\n",
       "<path fill=\"none\" stroke=\"black\" d=\"M125.377,-649.237C131.257,-639.578 137.481,-629.353 142.955,-620.36\"/>\n",
       "<polygon fill=\"black\" stroke=\"black\" points=\"120.106,-657.897 121.462,-647.015 122.706,-653.626 125.306,-649.355 125.306,-649.355 125.306,-649.355 122.706,-653.626 129.15,-651.695 120.106,-657.897 120.106,-657.897\"/>\n",
       "</g>\n",
       "</g>\n",
       "</svg>\n"
      ],
      "text/plain": [
       "<graphviz.dot.Digraph at 0x7fef55d6c3c8>"
      ]
     },
     "execution_count": 5,
     "metadata": {},
     "output_type": "execute_result"
    }
   ],
   "source": [
    "# 1st fully-connected layer + activation function\n",
    "fc1  = mx.sym.FullyConnected(data = data, num_hidden = 128)\n",
    "act1 = mx.sym.Activation(data = fc1, act_type = \"relu\")\n",
    "\n",
    "# 2nd fully-connected layer + activation function\n",
    "fc2  = mx.sym.FullyConnected(data = act1, num_hidden = 64)\n",
    "act2 = mx.sym.Activation(data = fc2, act_type = \"relu\")\n",
    "\n",
    "# 3rd fully connected layer (MNIST uses 10 classes)\n",
    "fc3  = mx.sym.FullyConnected(data = act2, num_hidden = 10)\n",
    "\n",
    "# softmax with cross entropy loss\n",
    "mlp  = mx.sym.SoftmaxOutput(data = fc3, label = fashion_item_label, name = 'softmax')\n",
    "\n",
    "mx.viz.plot_network(mlp)\n"
   ]
  },
  {
   "cell_type": "code",
   "execution_count": 6,
   "metadata": {},
   "outputs": [
    {
     "name": "stderr",
     "output_type": "stream",
     "text": [
      "INFO:root:Epoch[0] Train-accuracy=0.285783\n",
      "INFO:root:Epoch[0] Time cost=1.531\n",
      "INFO:root:Saved checkpoint to \"fashion_mnist-0001.params\"\n",
      "INFO:root:Epoch[0] Validation-accuracy=0.519100\n",
      "INFO:root:Epoch[1] Train-accuracy=0.694183\n",
      "INFO:root:Epoch[1] Time cost=1.552\n",
      "INFO:root:Saved checkpoint to \"fashion_mnist-0002.params\"\n",
      "INFO:root:Epoch[1] Validation-accuracy=0.768500\n",
      "INFO:root:Epoch[2] Train-accuracy=0.792300\n",
      "INFO:root:Epoch[2] Time cost=1.527\n",
      "INFO:root:Saved checkpoint to \"fashion_mnist-0003.params\"\n",
      "INFO:root:Epoch[2] Validation-accuracy=0.814800\n",
      "INFO:root:Epoch[3] Train-accuracy=0.828633\n",
      "INFO:root:Epoch[3] Time cost=1.554\n",
      "INFO:root:Saved checkpoint to \"fashion_mnist-0004.params\"\n",
      "INFO:root:Epoch[3] Validation-accuracy=0.829300\n",
      "INFO:root:Epoch[4] Train-accuracy=0.844700\n",
      "INFO:root:Epoch[4] Time cost=1.542\n",
      "INFO:root:Saved checkpoint to \"fashion_mnist-0005.params\"\n",
      "INFO:root:Epoch[4] Validation-accuracy=0.841200\n",
      "INFO:root:Epoch[5] Train-accuracy=0.856683\n",
      "INFO:root:Epoch[5] Time cost=1.515\n",
      "INFO:root:Saved checkpoint to \"fashion_mnist-0006.params\"\n",
      "INFO:root:Epoch[5] Validation-accuracy=0.851700\n",
      "INFO:root:Epoch[6] Train-accuracy=0.864483\n",
      "INFO:root:Epoch[6] Time cost=1.547\n",
      "INFO:root:Saved checkpoint to \"fashion_mnist-0007.params\"\n",
      "INFO:root:Epoch[6] Validation-accuracy=0.855600\n",
      "INFO:root:Epoch[7] Train-accuracy=0.870633\n",
      "INFO:root:Epoch[7] Time cost=1.538\n",
      "INFO:root:Saved checkpoint to \"fashion_mnist-0008.params\"\n",
      "INFO:root:Epoch[7] Validation-accuracy=0.860600\n",
      "INFO:root:Epoch[8] Train-accuracy=0.876067\n",
      "INFO:root:Epoch[8] Time cost=1.537\n",
      "INFO:root:Saved checkpoint to \"fashion_mnist-0009.params\"\n",
      "INFO:root:Epoch[8] Validation-accuracy=0.862900\n",
      "INFO:root:Epoch[9] Train-accuracy=0.880483\n",
      "INFO:root:Epoch[9] Time cost=1.552\n",
      "INFO:root:Saved checkpoint to \"fashion_mnist-0010.params\"\n",
      "INFO:root:Epoch[9] Validation-accuracy=0.865300\n",
      "INFO:root:Epoch[10] Train-accuracy=0.884017\n",
      "INFO:root:Epoch[10] Time cost=1.586\n",
      "INFO:root:Saved checkpoint to \"fashion_mnist-0011.params\"\n",
      "INFO:root:Epoch[10] Validation-accuracy=0.865800\n",
      "INFO:root:Epoch[11] Train-accuracy=0.888183\n",
      "INFO:root:Epoch[11] Time cost=1.525\n",
      "INFO:root:Saved checkpoint to \"fashion_mnist-0012.params\"\n",
      "INFO:root:Epoch[11] Validation-accuracy=0.865800\n",
      "INFO:root:Epoch[12] Train-accuracy=0.891133\n",
      "INFO:root:Epoch[12] Time cost=1.537\n",
      "INFO:root:Saved checkpoint to \"fashion_mnist-0013.params\"\n",
      "INFO:root:Epoch[12] Validation-accuracy=0.868700\n",
      "INFO:root:Epoch[13] Train-accuracy=0.893550\n",
      "INFO:root:Epoch[13] Time cost=1.486\n",
      "INFO:root:Saved checkpoint to \"fashion_mnist-0014.params\"\n",
      "INFO:root:Epoch[13] Validation-accuracy=0.869400\n",
      "INFO:root:Epoch[14] Train-accuracy=0.895650\n",
      "INFO:root:Epoch[14] Time cost=1.523\n",
      "INFO:root:Saved checkpoint to \"fashion_mnist-0015.params\"\n",
      "INFO:root:Epoch[14] Validation-accuracy=0.871600\n",
      "INFO:root:Epoch[15] Train-accuracy=0.897967\n",
      "INFO:root:Epoch[15] Time cost=1.550\n",
      "INFO:root:Saved checkpoint to \"fashion_mnist-0016.params\"\n",
      "INFO:root:Epoch[15] Validation-accuracy=0.872200\n",
      "INFO:root:Epoch[16] Train-accuracy=0.900617\n",
      "INFO:root:Epoch[16] Time cost=1.523\n",
      "INFO:root:Saved checkpoint to \"fashion_mnist-0017.params\"\n",
      "INFO:root:Epoch[16] Validation-accuracy=0.872900\n",
      "INFO:root:Epoch[17] Train-accuracy=0.903500\n",
      "INFO:root:Epoch[17] Time cost=1.516\n",
      "INFO:root:Saved checkpoint to \"fashion_mnist-0018.params\"\n",
      "INFO:root:Epoch[17] Validation-accuracy=0.873600\n",
      "INFO:root:Epoch[18] Train-accuracy=0.904700\n",
      "INFO:root:Epoch[18] Time cost=1.541\n",
      "INFO:root:Saved checkpoint to \"fashion_mnist-0019.params\"\n",
      "INFO:root:Epoch[18] Validation-accuracy=0.874300\n",
      "INFO:root:Epoch[19] Train-accuracy=0.906750\n",
      "INFO:root:Epoch[19] Time cost=1.525\n",
      "INFO:root:Saved checkpoint to \"fashion_mnist-0020.params\"\n",
      "INFO:root:Epoch[19] Validation-accuracy=0.876800\n"
     ]
    }
   ],
   "source": [
    "logging.basicConfig(level = logging.INFO)\n",
    "logging.getLogger().setLevel(logging.INFO)\n",
    "\n",
    "ctx = mx.cpu()  # for GPU change to mx.gpu()\n",
    "\n",
    "mod = mx.mod.Module(symbol = mlp, data_names = ['fashion_data'], label_names = ['fashion_item_label'], context = ctx, logger = logging)\n",
    "\n",
    "num_epoch_current = 20\n",
    "\n",
    "mod.fit(train_data_iter,                              # train data\n",
    "        eval_data = test_data_iter,                   # validation data\n",
    "        optimizer ='sgd',                             # use SGD to train\n",
    "        optimizer_params = {'learning_rate' : 0.1},   # use fixed learning rate\n",
    "        eval_metric = mx.metric.Accuracy(),           # report accuracy during training\n",
    "        num_epoch = num_epoch_current,                # train for at most 10 dataset passes\n",
    "        epoch_end_callback = mx.callback.do_checkpoint('fashion_mnist'),\n",
    "        force_rebind = True,\n",
    "        force_init = True)\n"
   ]
  },
  {
   "cell_type": "code",
   "execution_count": 7,
   "metadata": {},
   "outputs": [
    {
     "data": {
      "image/png": "[encoded data removed]",
      "text/plain": [
       "<matplotlib.figure.Figure at 0x7fef486ffac8>"
      ]
     },
     "metadata": {},
     "output_type": "display_data"
    },
    {
     "name": "stdout",
     "output_type": "stream",
     "text": [
      "Predicted fashion label for image 10 is 4 (Coat)\n",
      "Predicted fashion label for image 11 is 5 (Sandal)\n",
      "Predicted fashion label for image 12 is 5 (Sandal)\n",
      "Predicted fashion label for image 13 is 3 (Dress)\n",
      "Predicted fashion label for image 14 is 4 (Coat)\n",
      "Predicted fashion label for image 15 is 1 (Trouser)\n",
      "Predicted fashion label for image 16 is 2 (Pullover)\n",
      "Predicted fashion label for image 17 is 2 (Pullover)\n",
      "Predicted fashion label for image 18 is 8 (Bag)\n",
      "Predicted fashion label for image 19 is 0 (T-shirt/top)\n"
     ]
    }
   ],
   "source": [
    "pred_data_iter = mx.io.NDArrayIter(data = {'fashion_data': to4d(val_img)[0:100]}, batch_size = batch_size)\n",
    "pred_digits    = mod.predict(eval_data = pred_data_iter).asnumpy()\n",
    "\n",
    "pred_start  = 10\n",
    "# number of items we want to predict\n",
    "pred_number = 10\n",
    "\n",
    "for i in range(pred_number):\n",
    "    plt.subplot(1, pred_number, i + 1)\n",
    "    plt.imshow(val_img[i + pred_start], cmap='Greys')\n",
    "    plt.axis('off')\n",
    "\n",
    "plt.show()\n",
    "\n",
    "for x in range(pred_start, pred_start + pred_number):\n",
    "    label = np.where(pred_digits[x] == pred_digits[x].max())[0][0]\n",
    "    print(\"Predicted fashion label for image %s is %s (%s)\" % (x, label, fashion_labels[label]))\n"
   ]
  },
  {
   "cell_type": "code",
   "execution_count": 8,
   "metadata": {},
   "outputs": [
    {
     "data": {
      "image/png": "[encoded data removed]",
      "text/plain": [
       "<matplotlib.figure.Figure at 0x7fef5b6d9d30>"
      ]
     },
     "metadata": {},
     "output_type": "display_data"
    },
    {
     "name": "stdout",
     "output_type": "stream",
     "text": [
      "Predicted fashion label for image 20 is 2 (Pullover)\n",
      "Predicted fashion label for image 21 is 5 (Sandal)\n",
      "Predicted fashion label for image 22 is 7 (Sneaker)\n",
      "Predicted fashion label for image 23 is 5 (Sandal)\n",
      "Predicted fashion label for image 24 is 1 (Trouser)\n",
      "Predicted fashion label for image 25 is 2 (Pullover)\n",
      "Predicted fashion label for image 26 is 6 (Shirt)\n",
      "Predicted fashion label for image 27 is 0 (T-shirt/top)\n",
      "Predicted fashion label for image 28 is 9 (Ankle boot)\n",
      "Predicted fashion label for image 29 is 3 (Dress)\n"
     ]
    }
   ],
   "source": [
    "pred_start  = 20\n",
    "# number of items we want to predict\n",
    "pred_number = 10\n",
    "\n",
    "for i in range(pred_number):\n",
    "    plt.subplot(1, pred_number, i + 1)\n",
    "    plt.imshow(val_img[i + pred_start], cmap='Greys')\n",
    "    plt.axis('off')\n",
    "\n",
    "plt.show()\n",
    "\n",
    "for x in range(pred_start, pred_start + pred_number):\n",
    "    label = np.where(pred_digits[x] == pred_digits[x].max())[0][0]\n",
    "    print(\"Predicted fashion label for image %s is %s (%s)\" % (x, label, fashion_labels[label]))"
   ]
  },
  {
   "cell_type": "code",
   "execution_count": 9,
   "metadata": {},
   "outputs": [
    {
     "data": {
      "text/plain": [
       "('predict3.jpg', <http.client.HTTPMessage at 0x7fef5b6d9940>)"
      ]
     },
     "execution_count": 9,
     "metadata": {},
     "output_type": "execute_result"
    }
   ],
   "source": [
    "urllib.request.urlretrieve('https://images-na.ssl-images-amazon.com/images/I/81OaXwn1x4L._UX679_.jpg', 'predict1.jpg')\n",
    "urllib.request.urlretrieve('https://images-eu.ssl-images-amazon.com/images/I/31TcgNHsbIL._AC_UL260_SR200,260_.jpg', 'predict2.jpg')\n",
    "urllib.request.urlretrieve('https://images-eu.ssl-images-amazon.com/images/I/41hWhZBIc3L._AC_UL260_SR200,260_.jpg', 'predict3.jpg')\n"
   ]
  },
  {
   "cell_type": "code",
   "execution_count": 10,
   "metadata": {},
   "outputs": [],
   "source": [
    "# prediction_model_check_point = 10\n",
    "prediction_model_check_point = 20\n",
    "prediction_model_prefix      = 'fashion_mnist'\n",
    "\n",
    "prediction_sym, arg_params, aux_params = mx.model.load_checkpoint(prediction_model_prefix, prediction_model_check_point)\n",
    "prediction_model = mx.mod.Module(symbol = prediction_sym, data_names = ['fashion_data'], label_names = ['fashion_item_label'])\n",
    "\n",
    "prediction_model.bind(for_training = False, data_shapes = [('fashion_data', (1,1,28,28))], label_shapes = [('fashion_item_label', (1,))])\n",
    "prediction_model.set_params(arg_params = arg_params, aux_params = aux_params, allow_missing = True)\n"
   ]
  },
  {
   "cell_type": "code",
   "execution_count": null,
   "metadata": {},
   "outputs": [],
   "source": []
  }
 ],
 "metadata": {
  "kernelspec": {
   "display_name": "Python 3",
   "language": "python",
   "name": "python3"
  },
  "language_info": {
   "codemirror_mode": {
    "name": "ipython",
    "version": 3
   },
   "file_extension": ".py",
   "mimetype": "text/x-python",
   "name": "python",
   "nbconvert_exporter": "python",
   "pygments_lexer": "ipython3",
   "version": "3.6.3"
  }
 },
 "nbformat": 4,
 "nbformat_minor": 2
}
